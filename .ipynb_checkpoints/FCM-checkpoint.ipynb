{
 "cells": [
  {
   "cell_type": "code",
   "execution_count": null,
   "metadata": {},
   "outputs": [],
   "source": [
    "import numpy as np\n",
    "import matplotlib.pyplot as plt"
   ]
  },
  {
   "cell_type": "code",
   "execution_count": null,
   "metadata": {},
   "outputs": [],
   "source": [
    "X = np.array([[2.5, 3.0, 3.0, 3.5, 5.5, 6.0, 6.0, 6.5],\n",
    "              [3.5, 3.0, 4.0, 3.5, 5.5, 6.0, 5.0, 5.5]]"
   ]
  },
  {
   "cell_type": "code",
   "execution_count": null,
   "metadata": {},
   "outputs": [],
   "source": [
    "num_rows, N = X.shape\n",
    "m = 2\n",
    "is_stop_criterion = 10000\n",
    "epsilon = 0.00001\n",
    "c = 2\n",
    "print(X)"
   ]
  },
  {
   "cell_type": "code",
   "execution_count": null,
   "metadata": {},
   "outputs": [],
   "source": [
    "V = np.zeros((num_rows, c))\n",
    "\n",
    "U = np.random.rand(c, N)\n",
    "U /= np.sum(U, axis=0)\n",
    "\n",
    "t = 0"
   ]
  },
  {
   "cell_type": "code",
   "execution_count": null,
   "metadata": {},
   "outputs": [],
   "source": [
    "while is_stop_criterion > epsilon:\n",
    "    t += 1\n",
    "    for i in range(c):\n",
    "        for j in range(num_rows):\n",
    "            V[j, i] = np.sum(X[j, :] * U[i, :]**m) / np.sum(U[i, :]**m)\n",
    "    V[np.isnan(V)] = 0"
   ]
  },
  {
   "cell_type": "code",
   "execution_count": null,
   "metadata": {},
   "outputs": [],
   "source": [
    "d = np.zeros((c, N))\n",
    "    for i in range(c):\n",
    "        for j in range(N):\n",
    "            d[i, j] = np.sum((X[:, j] - V[:, i])**2)\n"
   ]
  },
  {
   "cell_type": "code",
   "execution_count": null,
   "metadata": {},
   "outputs": [],
   "source": [
    "  J = 0\n",
    "    for i in range(c):\n",
    "        for j in range(N):\n",
    "            J += (U[i, j]**m) * d[i, j]"
   ]
  },
  {
   "cell_type": "code",
   "execution_count": null,
   "metadata": {},
   "outputs": [],
   "source": [
    "U_save = U.copy()\n",
    "    for i in range(c):\n",
    "        for j in range(N):\n",
    "            U[i, j] = (d[i, j]**(2 / (1 - m))) / np.sum(d[:, j]**(2 / (1 - m)))\n",
    "    is_stop_criterion = np.linalg.norm(U - U_save)"
   ]
  },
  {
   "cell_type": "code",
   "execution_count": null,
   "metadata": {},
   "outputs": [],
   "source": [
    "print(\"Partition matrix:\")\n",
    "print(U)\n",
    "print(\"Cluster centers:\")\n",
    "print(V)\n",
    "print(\"Minimum:\")\n",
    "print(J)\n",
    "print(\"Number of iterations:\")\n",
    "print(t)\n",
    "        "
   ]
  },
  {
   "cell_type": "code",
   "execution_count": null,
   "metadata": {},
   "outputs": [],
   "source": [
    "plt.scatter(X[0, :], X[1, :])\n",
    "plt.scatter(V[0, :], V[1, :])\n",
    "plt.show()"
   ]
  },
  {
   "cell_type": "code",
   "execution_count": null,
   "metadata": {},
   "outputs": [],
   "source": []
  }
 ],
 "metadata": {
  "kernelspec": {
   "display_name": "Python 3",
   "language": "python",
   "name": "python3"
  },
  "language_info": {
   "codemirror_mode": {
    "name": "ipython",
    "version": 3
   },
   "file_extension": ".py",
   "mimetype": "text/x-python",
   "name": "python",
   "nbconvert_exporter": "python",
   "pygments_lexer": "ipython3",
   "version": "3.8.5"
  }
 },
 "nbformat": 4,
 "nbformat_minor": 4
}
